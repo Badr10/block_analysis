{
 "cells": [
  {
   "cell_type": "code",
   "execution_count": 5,
   "metadata": {
    "collapsed": true
   },
   "outputs": [
    {
     "name": "stdout",
     "output_type": "stream",
     "text": [
      "0    12.5\n1    12.5\n2    12.5\n3    12.5\n4     9.5\nName: FontSize, dtype: float64\n"
     ]
    }
   ],
   "source": [
    "import pandas as pd \n",
    "data = pd.read_csv('/Users/badrkhamis/Desktop/python_code/blocks_analysis/bloc1.csv')\n",
    "# print data.head()\n",
    "print data['FontSize'].head()"
   ]
  },
  {
   "cell_type": "code",
   "execution_count": 44,
   "metadata": {
    "collapsed": true
   },
   "outputs": [
    {
     "name": "stdout",
     "output_type": "stream",
     "text": [
      "60    3003\n61    3003\n62    3003\nName: LineStartY, dtype: int64\n"
     ]
    }
   ],
   "source": [
    "import numpy as np\n",
    "import re\n",
    "titile_points = 0 \n",
    "data['AvgLineDensity'].fillna(1,inplace=True)\n",
    "data['position'] = np.where(data['AvgLineDensity']>=10, 3, 1)\n",
    "# print data['position']\n",
    "pd.to_numeric(data['LineStartY'], errors='ignore')\n",
    "\n",
    "def top_position(df):\n",
    "    point=[]\n",
    "    print df['LineStartY'].nlargest(3)\n",
    "    for row in df['LineStartY']:\n",
    "        \n",
    "        if row > 100 and row < 400:\n",
    "            point.append(5)\n",
    "        elif row >=400 and row <=660:\n",
    "            point.append(4)\n",
    "        elif row >660 and row <= 800:\n",
    "            point.append(3)\n",
    "        elif row >800 and row <=1200:\n",
    "            point.append(2)\n",
    "        else: \n",
    "            point.append(1)\n",
    "    return point\n",
    "data['Yposition'] = top_position(data)\n",
    "\n",
    "def font_points(fonts):\n",
    "    FontPoint = []\n",
    "    fonts['FontSize'].fillna(1,inplace=true)\n",
    "    for font in fonts['FontSize']:\n",
    "        if font >= 4 and font <=10 :\n",
    "            FontPoint.append(1)\n",
    "        elif font > 10 and font <=12 :\n",
    "            FontPoint.append(2)\n",
    "        elif font >12 and font <=14 :\n",
    "            FontPoint.append(3)\n",
    "        elif font > 14 and font <=18 :\n",
    "            FontPoint.append(4)\n",
    "        elif font > 18 and font <=30 :\n",
    "            FontPoint.append(5)\n",
    "    return FontPoint\n",
    "# data['FontPoint'] = font_points(data)\n",
    "# font_points(data)\n",
    "# data['total_p']=(data['FontPoint']) + (data['Yposition'])\n",
    "# print data['total_p'].head(10) \n",
    "# df['C'] = df.apply(lambda row: row['A'] + row['B'], axis=1)\n",
    "  \n",
    "#     for row in data['LineStartY']:\n",
    "#         if row > 1800: \n",
    "#             data['teeee'] = 'yes'\n",
    "# \n",
    "# data.applymap(ps)\n",
    "# print data\n",
    "# # for point in (data['AvgLineDensity']):\n",
    "# if data['AvgLineDensity'].astype(float) <= 10 :\n",
    "#     titile_points=titile_points+1\n",
    "# print titile_points"
   ]
  },
  {
   "cell_type": "code",
   "execution_count": 3,
   "metadata": {},
   "outputs": [
    {
     "name": "stdout",
     "output_type": "stream",
     "text": [
      "    a   b  c\n0   7  15  5\n1  10  10  7\n2  12  30  9\n"
     ]
    }
   ],
   "source": [
    "df = pd.DataFrame([{'a': 15, 'b': 15, 'c': 5}, {'a': 20, 'b': 10, 'c': 7}, {'a': 25, 'b': 30, 'c': 9}])\n",
    "df['a'] = df['a'].map(lambda x: x / 2)\n",
    "# print df"
   ]
  },
  {
   "cell_type": "code",
   "execution_count": 242,
   "metadata": {
    "collapsed": true
   },
   "outputs": [],
   "source": [
    "data['FontSize'].fillna(1,inplace=True)\n",
    "lista = []\n",
    "# data1 = data.sort_values(by='FontSize', ascending=1)\n",
    "def ns(x):\n",
    "    fontlist=[]\n",
    "    for font in x['FontSize']:\n",
    "        if font >=0 and font <= x['FontSize'].quantile([.25]).get_values():\n",
    "            fontlist.append(1)\n",
    "        elif font > x['FontSize'].quantile([.25]).get_values() and font <=x['FontSize'].quantile([.5]).get_values():\n",
    "            fontlist.append(2)\n",
    "        elif font > x['FontSize'].quantile([.5]).get_values() and font <=x['FontSize'].quantile([.75]).get_values():\n",
    "            fontlist.append(3)\n",
    "        elif font > x['FontSize'].quantile([.75]).get_values() and font <=x['FontSize'].quantile([.9]).get_values():\n",
    "            fontlist.append(4)\n",
    "        else:\n",
    "            fontlist.append(6)\n",
    "    return fontlist\n",
    "data['a'] = ns(data)\n",
    "         \n",
    "            \n",
    "         \n",
    "            \n",
    "#     return x/data['FontSize'].sum()*100[\n",
    "# data['a'] = data['FontSize'].map(lambda x: ns(x))\n",
    "# data1['a'] = data['FontSize'].map(lambda x: x / data['FontSize'].sum()*100)\n",
    "# def positionT(x):\n",
    "#     return float(data['LineStartY'].min()) / x * 100\n",
    "# data['po'] = data['LineStartY'].map(lambda x:positionT(x))\n",
    "# print data['LineStartY'].quantile([.75])\n",
    "# print data['LineStartY'].median()\n",
    "# print data['LineStartY'].mean()\n",
    "# print data['LineStartX'].quantile([.75])\n",
    "# count = 0\n",
    "# for i in range(0, len(data1['FontSize'])):\n",
    "#     if data1['FontSize'].iloc[-1] == data1['FontSize'].iloc[i]:\n",
    "#         lista.append(0)\n",
    "#     elif data1['FontSize'].iloc[i] == data1['FontSize'].iloc[i+1]:\n",
    "#         \n",
    "#          lista.append(count)\n",
    "#     else :\n",
    "#         count+=1\n",
    "#         lista.append(count)\n",
    "#     print data1['FontSize'].iloc[i], i \n",
    "#         \n",
    "# print lista\n",
    "# dew = data['LineStartY'].quantile([.75])\n",
    "# er= float(dew.get_values())\n",
    "# for row in data['LineStartY']:\n",
    "#         if er < row:\n",
    "#             print row"
   ]
  },
  {
   "cell_type": "code",
   "execution_count": 237,
   "metadata": {},
   "outputs": [],
   "source": [
    "def rs(x):\n",
    "    topposition=[]\n",
    "    for row in x['LineStartY']:\n",
    "        if row > 0 and row <= x['LineStartY'].quantile([.25]).get_values():\n",
    "            topposition.append(5) \n",
    "        elif row > x['LineStartY'].quantile([.25]).get_values() and row <=x['LineStartY'].quantile([.4]).get_values():\n",
    "            topposition.append(4) \n",
    "        elif row > x['LineStartY'].quantile([.4]).get_values() and row <=x['LineStartY'].quantile([.5]).get_values():\n",
    "            topposition.append(2) \n",
    "        elif row > x['LineStartY'].quantile([.6]).get_values() and row <=x['LineStartY'].quantile([.7]).get_values():\n",
    "            topposition.append(1)  \n",
    "        else:\n",
    "            topposition.append(0)  \n",
    "    return topposition\n",
    "data['wordtopposition'] = rs(data)\n",
    "# print data.head()"
   ]
  },
  {
   "cell_type": "code",
   "execution_count": 238,
   "metadata": {},
   "outputs": [],
   "source": [
    "def ss (x):\n",
    "    topposition=[]\n",
    "    for row in x['LineStartX']:\n",
    "    \n",
    "        if row > 0 and row <= x['LineStartX'].quantile([.25]).get_values():\n",
    "            topposition.append(3) \n",
    "        elif row > x['LineStartX'].quantile([.25]).get_values() and row <=x['LineStartX'].quantile([.73]).get_values():\n",
    "            topposition.append(5) \n",
    "        else: \n",
    "            topposition.append(1) \n",
    "        \n",
    "    return topposition\n",
    "data['wordcenter'] = ss(data)"
   ]
  },
  {
   "cell_type": "code",
   "execution_count": 159,
   "metadata": {},
   "outputs": [
    {
     "name": "stdout",
     "output_type": "stream",
     "text": [
      "    Unnamed: 0  AvgLineDensity FontColor FontFamily          FontName  \\\n94           1             NaN    190092      roman   times new roman   \n\n    FontSize FontWeight  LineHeight  LineID  LineStartX  LineStartY  \\\n94      26.0       bold          79       0         942         353   \n\n       LineText  LineWidth TextGroupSeparator  WordDistance  WordID WordValue  \\\n94  Tax Invoice        550               True          30.0       1   Invoice   \n\n    wordtopposition  wordcenter  \n94                5           5  \n"
     ]
    }
   ],
   "source": [
    "print data[data['WordValue']=='Invoice']"
   ]
  },
  {
   "cell_type": "code",
   "execution_count": 239,
   "metadata": {},
   "outputs": [
    {
     "name": "stdout",
     "output_type": "stream",
     "text": [
      "0      Reqular\n1      Reqular\n2      Reqular\n3      Reqular\n4      Reqular\n5      Reqular\n6      Reqular\n7      Reqular\n8      Reqular\n9      Reqular\n10     Reqular\n11     Reqular\n12     Reqular\n13     Reqular\n14     Reqular\n15     Reqular\n16     Reqular\n17     Reqular\n18     Reqular\n19     Reqular\n20     Reqular\n21     Reqular\n22     Reqular\n23     Reqular\n24     Reqular\n25     Reqular\n26     Reqular\n27     Reqular\n28     Reqular\n29     Reqular\n        ...   \n326    Reqular\n327    Reqular\n328    Reqular\n329    Reqular\n330    Reqular\n331    Reqular\n332    Reqular\n333    Reqular\n334    Reqular\n335    Reqular\n336    Reqular\n337    Reqular\n338    Reqular\n339    Reqular\n340    Reqular\n341    Reqular\n342    Reqular\n343    Reqular\n344    Reqular\n345    Reqular\n346    Reqular\n347    Reqular\n348    Reqular\n349    Reqular\n350    Reqular\n351    Reqular\n352    Reqular\n353    Reqular\n354    Reqular\n355    Reqular\nName: FontWeight, dtype: object\n"
     ]
    }
   ],
   "source": [
    "data['FontWeight'].fillna('Reqular',inplace=True)\n",
    "print data['FontWeight']"
   ]
  },
  {
   "cell_type": "code",
   "execution_count": 185,
   "metadata": {},
   "outputs": [
    {
     "name": "stdout",
     "output_type": "stream",
     "text": [
      "112 [0, 0, 0, 0, 0, 0, 0, 0, 0, 0, 0, 0, 0, 0, 0, 0, 0, 0, 0, 0, 0, 0, 0, 0, 0, 0, 0, 0, 0, 0, 0, 0, 0, 0, 0, 0, 0, 0, 0, 0, 0, 0, 0, 0, 0, 0, 0, 0, 0, 0, 0, 0, 0, 0, 0, 0, 0, 0, 0, 0, 0, 0, 0, 0, 0, 0, 0, 0, 0, 0, 0, 0, 0, 0, 0, 0, 0, 0, 0, 0, 0, 0, 0, 0, 0, 0, 0, 0, 0, 0, 0, 0, 0, 0, 0, 0, 0, 0, 0, 0, 0, 0, 0, 0, 0, 0, 0, 0, 0, 0, 0, 0]\n"
     ]
    }
   ],
   "source": [
    "# def bo (x):\n",
    "tre=[]\n",
    "tre=[0 for tr in data['FontWeight'] if (tr.strip()=='Reqular')]\n",
    "print len(tre) , tre\n",
    "    # return tr"
   ]
  },
  {
   "cell_type": "code",
   "execution_count": 10,
   "metadata": {},
   "outputs": [
    {
     "name": "stdout",
     "output_type": "stream",
     "text": [
      "0     1\n1     1\n2     1\n3     1\n4     1\n5     1\n6     1\n7     1\n8     1\n9     1\n10    1\n11    1\n12    1\n13    1\n14    1\n15    1\n16    1\n17    1\n18    1\n19    1\n20    1\n21    1\n22    1\n23    1\n24    1\n25    1\n26    1\n27    1\n28    1\n29    1\n30    1\n31    1\n32    1\n33    1\n34    1\n35    0\n36    0\n37    0\n38    0\n39    0\nName: fontwp, dtype: int64\n"
     ]
    }
   ],
   "source": [
    "def fontb(x):\n",
    "    \n",
    "        if str(x).strip()==\"bold\":\n",
    "            return 1\n",
    "        else:\n",
    "            return 0\n",
    "    \n",
    "data['fontwp'] = data['FontWeight'].map(lambda x: fontb(x))\n",
    "print data['fontwp'].head(40)"
   ]
  },
  {
   "cell_type": "code",
   "execution_count": 244,
   "metadata": {},
   "outputs": [],
   "source": [
    "data['total'] = data['fontwp']+data['wordcenter']+data['a']+data['wordtopposition']"
   ]
  },
  {
   "cell_type": "code",
   "execution_count": 235,
   "metadata": {
    "collapsed": true
   },
   "outputs": [
    {
     "name": "stdout",
     "output_type": "stream",
     "text": [
      "0     8\n1    12\n2    12\n3    12\n4    12\nName: total, dtype: int64\n12\n1    Subject: Letter of Employment Verification for...\n2    Subject: Letter of Employment Verification for...\n3    Subject: Letter of Employment Verification for...\n4    Subject: Letter of Employment Verification for...\n5    Subject: Letter of Employment Verification for...\n6    Subject: Letter of Employment Verification for...\n7    Subject: Letter of Employment Verification for...\n8    Subject: Letter of Employment Verification for...\nName: LineText, dtype: object\n"
     ]
    }
   ],
   "source": [
    "print data['total'].head()\n",
    "print data['total'].max()\n",
    "print data[data['total']==data['total'].max()].LineText"
   ]
  },
  {
   "cell_type": "code",
   "execution_count": 3,
   "metadata": {},
   "outputs": [
    {
     "ename": "NameError",
     "evalue": "name 'pd' is not defined",
     "traceback": [
      "\u001b[0;31m---------------------------------------------------------------------------\u001b[0m",
      "\u001b[0;31mNameError\u001b[0m                                 Traceback (most recent call last)",
      "\u001b[0;32m<ipython-input-3-1eb32d47c7a4>\u001b[0m in \u001b[0;36m<module>\u001b[0;34m()\u001b[0m\n\u001b[1;32m      6\u001b[0m         \u001b[0;34m'Site 4'\u001b[0m\u001b[0;34m:\u001b[0m \u001b[0;34m'31.655494, -106.420484'\u001b[0m\u001b[0;34m,\u001b[0m\u001b[0;34m\u001b[0m\u001b[0m\n\u001b[1;32m      7\u001b[0m         'Site 5': '30.295053, -104.014528'}\n\u001b[0;32m----> 8\u001b[0;31m \u001b[0mdf\u001b[0m \u001b[0;34m=\u001b[0m \u001b[0mpd\u001b[0m\u001b[0;34m.\u001b[0m\u001b[0mDataFrame\u001b[0m\u001b[0;34m.\u001b[0m\u001b[0mfrom_dict\u001b[0m\u001b[0;34m(\u001b[0m\u001b[0mdata\u001b[0m\u001b[0;34m,\u001b[0m \u001b[0morient\u001b[0m\u001b[0;34m=\u001b[0m\u001b[0;34m'index'\u001b[0m\u001b[0;34m)\u001b[0m\u001b[0;34m\u001b[0m\u001b[0m\n\u001b[0m",
      "\u001b[0;31mNameError\u001b[0m: name 'pd' is not defined"
     ],
     "output_type": "error"
    }
   ],
   "source": [
    ""
   ]
  },
  {
   "cell_type": "code",
   "execution_count": null,
   "metadata": {},
   "outputs": [],
   "source": [
    ""
   ]
  }
 ],
 "metadata": {
  "kernelspec": {
   "display_name": "Python 2",
   "language": "python",
   "name": "python2"
  },
  "language_info": {
   "codemirror_mode": {
    "name": "ipython",
    "version": 2.0
   },
   "file_extension": ".py",
   "mimetype": "text/x-python",
   "name": "python",
   "nbconvert_exporter": "python",
   "pygments_lexer": "ipython2",
   "version": "2.7.6"
  }
 },
 "nbformat": 4,
 "nbformat_minor": 0
}